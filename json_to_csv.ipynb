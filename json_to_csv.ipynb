{
 "cells": [
  {
   "cell_type": "code",
   "execution_count": 5,
   "id": "944592c9-588a-4a06-959a-237fa8f95ff5",
   "metadata": {},
   "outputs": [
    {
     "name": "stdout",
     "output_type": "stream",
     "text": [
      "Data has been written to zomato_dataset_cleaned.csv\n"
     ]
    }
   ],
   "source": [
    "import json\n",
    "import csv\n",
    "\n",
    "# Load the JSON data\n",
    "with open(r'D:\\downloads\\file5.json', 'r') as file:\n",
    "    data = json.load(file)\n",
    "\n",
    "# Prepare a list to store extracted data\n",
    "restaurants_data = []\n",
    "\n",
    "# Loop through each restaurant entry\n",
    "for entry in data[1]['restaurants']:\n",
    "    restaurant = entry['restaurant']\n",
    "    \n",
    "    # Extract relevant fields\n",
    "    restaurant_data = {\n",
    "        'RestaurantID': restaurant.get('id', ''),\n",
    "        'RestaurantName': restaurant.get('name', ''),\n",
    "        'CountryCode': restaurant.get('location', {}).get('country_id', ''),\n",
    "        'City': restaurant.get('location', {}).get('city', ''),\n",
    "        'Address': restaurant.get('location', {}).get('address', ''),\n",
    "        'Locality': restaurant.get('location', {}).get('locality', ''),\n",
    "        'LocalityVerbose': restaurant.get('location', {}).get('locality_verbose', ''),\n",
    "        'Cuisines': restaurant.get('cuisines', ''),\n",
    "        'Currency': restaurant.get('currency', ''),\n",
    "        'Has_Table_booking': restaurant.get('has_table_booking', ''),\n",
    "        'Has_Online_delivery': restaurant.get('has_online_delivery', ''),\n",
    "        'Is_delivering_now': restaurant.get('is_delivering_now', ''),\n",
    "        'Switch_to_order_menu': restaurant.get('switch_to_order_menu', ''),\n",
    "        'Price_range': restaurant.get('price_range', ''),\n",
    "        'Votes': restaurant.get('user_rating', {}).get('votes', ''),\n",
    "        'Average_Cost_for_two': restaurant.get('average_cost_for_two', ''),\n",
    "        'Rating': restaurant.get('user_rating', {}).get('aggregate_rating', ''),\n",
    "    }\n",
    "    \n",
    "    # Append extracted data to the list\n",
    "    restaurants_data.append(restaurant_data)\n",
    "\n",
    "# Specify the CSV file name\n",
    "csv_file = 'zomato_dataset_cleaned.csv'\n",
    "\n",
    "# Define CSV fieldnames\n",
    "fieldnames = [\n",
    "    'RestaurantID', 'RestaurantName', 'CountryCode', 'City', 'Address', 'Locality', \n",
    "    'LocalityVerbose', 'Cuisines', 'Currency', 'Has_Table_booking', 'Has_Online_delivery', \n",
    "    'Is_delivering_now', 'Switch_to_order_menu', 'Price_range', 'Votes', \n",
    "    'Average_Cost_for_two', 'Rating'\n",
    "]\n",
    "\n",
    "# Write the extracted data into a CSV file\n",
    "with open(csv_file, mode='w', newline='', encoding='utf-8') as file:\n",
    "    writer = csv.DictWriter(file, fieldnames=fieldnames)\n",
    "    \n",
    "    # Write the header\n",
    "    writer.writeheader()\n",
    "    \n",
    "    # Write the restaurant data\n",
    "    for restaurant in restaurants_data:\n",
    "        writer.writerow(restaurant)\n",
    "\n",
    "print(f\"Data has been written to {csv_file}\")\n"
   ]
  },
  {
   "cell_type": "code",
   "execution_count": 11,
   "id": "be7e900f-c4d6-454d-8b75-6b16d283258a",
   "metadata": {},
   "outputs": [
    {
     "data": {
      "text/html": [
       "<a download=\"zomato_dataset_cleaned.csv\" href=\"data:file/csv;base64,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\">Download zomato_dataset_cleaned.csv</a>"
      ],
      "text/plain": [
       "<IPython.core.display.HTML object>"
      ]
     },
     "execution_count": 11,
     "metadata": {},
     "output_type": "execute_result"
    }
   ],
   "source": [
    "import base64\n",
    "from IPython.display import HTML\n",
    "\n",
    "def create_download_link(filename):\n",
    "    with open(filename, 'rb') as f:\n",
    "        data = f.read()\n",
    "    b64 = base64.b64encode(data).decode()\n",
    "    return HTML(f'<a download=\"{filename}\" href=\"data:file/csv;base64,{b64}\">Download {filename}</a>')\n",
    "\n",
    "# Usage\n",
    "create_download_link('zomato_dataset_cleaned.csv')\n"
   ]
  },
  {
   "cell_type": "code",
   "execution_count": null,
   "id": "d86db234-b8a8-43c3-87c8-368e5276a53e",
   "metadata": {},
   "outputs": [],
   "source": []
  }
 ],
 "metadata": {
  "kernelspec": {
   "display_name": "Python 3 (ipykernel)",
   "language": "python",
   "name": "python3"
  },
  "language_info": {
   "codemirror_mode": {
    "name": "ipython",
    "version": 3
   },
   "file_extension": ".py",
   "mimetype": "text/x-python",
   "name": "python",
   "nbconvert_exporter": "python",
   "pygments_lexer": "ipython3",
   "version": "3.12.4"
  }
 },
 "nbformat": 4,
 "nbformat_minor": 5
}
